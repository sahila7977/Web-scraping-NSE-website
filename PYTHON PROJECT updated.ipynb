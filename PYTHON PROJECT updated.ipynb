{
 "cells": [
  {
   "cell_type": "code",
   "execution_count": 1,
   "id": "8d7b5c47",
   "metadata": {},
   "outputs": [],
   "source": [
    "#importing required libraries\n",
    "import pandas as pd\n",
    "import sys\n",
    "import requests\n",
    "from bs4 import BeautifulSoup\n",
    "import re\n",
    "import os\n",
    "from time import sleep "
   ]
  },
  {
   "cell_type": "code",
   "execution_count": 2,
   "id": "fe05c7b4",
   "metadata": {},
   "outputs": [],
   "source": [
    "def fetch_stock_info(stock_code):   #function to get the prices for respective stock\n",
    "    #nse url where data gets updated regularly\n",
    "    stock_url  = 'https://www1.nseindia.com/live_market/dynaContent/live_watch/get_quote/GetQuote.jsp?symbol='+str(stock_code) \n",
    "    #my user agent\n",
    "    headers = {'user-agent':'Mozilla/5.0 (Windows NT 10.0; Win64; x64) AppleWebKit/537.36 (KHTML, like Gecko) Chrome/105.0.0.0 Safari/537.36'}\n",
    "    #establishing connection to the url\n",
    "    r= requests.get(stock_url, headers=headers)\n",
    "    #using beautifulsoup to parse get the html data of the website\n",
    "    soup = BeautifulSoup(r.text, 'html.parser')\n",
    "    #filtering html data to get the desired form\n",
    "    data_array = soup.find(id='responseDiv').getText().strip().split(\":\")\n",
    "    \n",
    "    #fetching and returning the prices we are interested in\n",
    "    for item in data_array:\n",
    "        if 'lastPrice' in item:   #last traded price\n",
    "            index = data_array.index(item)+1\n",
    "            latestPrice=data_array[index].split('\"')[1]\n",
    "            lp =  float(latestPrice.replace(',',''))\n",
    "        elif 'open' in item:     #day's opening price\n",
    "            index = data_array.index(item)+1\n",
    "            openPrice=data_array[index].split('\"')[1]\n",
    "            op =  float(openPrice.replace(',',''))\n",
    "        elif 'dayLow' in item:   #lowest price of the day\n",
    "            index = data_array.index(item)+1\n",
    "            dayLow=data_array[index].split('\"')[1]\n",
    "            dl =  float(dayLow.replace(',',''))\n",
    "        elif 'dayHigh' in item:  #highest price of the day\n",
    "            index = data_array.index(item)+1\n",
    "            dayHigh=data_array[index].split('\"')[1]\n",
    "            dh =  float(dayHigh.replace(',',''))\n",
    "    return op,lp,dh,dl     #returning the prices \n",
    "\n"
   ]
  },
  {
   "cell_type": "code",
   "execution_count": 3,
   "id": "ca645785",
   "metadata": {},
   "outputs": [],
   "source": [
    "#url where list of nifty50 stocks get updated incase there is a change in future\n",
    "nifty50_list = 'https://archives.nseindia.com/content/indices/ind_nifty50list.csv'\n",
    "#accessing the csv file with the list of stocks using pandas\n",
    "df_n50 = pd.read_csv(nifty50_list)"
   ]
  },
  {
   "cell_type": "code",
   "execution_count": 4,
   "id": "4ca48fcd",
   "metadata": {},
   "outputs": [
    {
     "name": "stdout",
     "output_type": "stream",
     "text": [
      "enter no. of minutes : 2\n"
     ]
    }
   ],
   "source": [
    "#creating empty lists to store the fetched prices\n",
    "OP  = []\n",
    "LP  = []\n",
    "DHP = []\n",
    "DLP = []\n",
    "regexp = re.compile('&')  #to search \"&\" in the column 'symbol' of nifty50_list \n",
    "minutes=int(input(\"enter no. of minutes : \"))\n",
    "for i in range(0,minutes):\n",
    "   try:\n",
    "      for index, row in df_n50.iterrows():  #replacing '&' with '%26' to avoid error\n",
    "         stock_code = row['Symbol']\n",
    "         if(regexp.search(stock_code) != None):\n",
    "            stock_code = stock_code.replace('&','%26')\n",
    "         #calling the function and storing the prices in the respective lists\n",
    "         oPrice,lPrice,dhPrice, dlPrice = fetch_stock_info(stock_code)  \n",
    "         OP.append(str(oPrice))\n",
    "         LP.append(str(lPrice))\n",
    "         DHP.append(str(dhPrice))\n",
    "         DLP.append(str(dlPrice))\n",
    "      sleep(10)\n",
    "      f=open(\"nifty50{}.csv\".format(i),\"a+\")\n",
    "      #printing heading of the table\n",
    "      #print(\"---------------------------------------------------------------------------------------------------------------------------------\")\n",
    "      a=\"{:50s} , {:20s} , {:10s} , {:10s} , {:10s} , {:10s} , \\n\".format( 'Company Name','Symbol','openPrice','lastPrice','dayHigh','dayLow')\n",
    "      f.write(a)\n",
    "      #print(\"---------------------------------------------------------------------------------------------------------------------------------\")\n",
    "\n",
    "      #printing the prices in the form of a table\n",
    "      for index, row in df_n50.iterrows():\n",
    "         stock_code = row['Symbol']\n",
    "         \n",
    "         b=\"{:50s} , {:20s} , {:10s} ,{:10s} , {:10s} , {:10s} , \\n\".format(str(row['Company Name']), row['Symbol'], OP[index].rjust(10), LP[index].rjust(10), DHP[index].rjust(10), DLP[index].rjust(10))\n",
    "         f.write(b)\n",
    "      #print(\"---------------------------------------------------------------------------------------------------------------------------------\")\n",
    "      \n",
    "\n",
    "   except KeyboardInterrupt:\n",
    "        sys.exit()\n",
    "   finally:\n",
    "    f.close()"
   ]
  },
  {
   "cell_type": "code",
   "execution_count": null,
   "id": "c68b3732",
   "metadata": {},
   "outputs": [],
   "source": []
  }
 ],
 "metadata": {
  "kernelspec": {
   "display_name": "Python 3 (ipykernel)",
   "language": "python",
   "name": "python3"
  },
  "language_info": {
   "codemirror_mode": {
    "name": "ipython",
    "version": 3
   },
   "file_extension": ".py",
   "mimetype": "text/x-python",
   "name": "python",
   "nbconvert_exporter": "python",
   "pygments_lexer": "ipython3",
   "version": "3.9.12"
  }
 },
 "nbformat": 4,
 "nbformat_minor": 5
}
